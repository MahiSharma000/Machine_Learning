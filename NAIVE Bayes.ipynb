{
  "cells": [
    {
      "cell_type": "markdown",
      "metadata": {
        "id": "view-in-github",
        "colab_type": "text"
      },
      "source": [
        "<a href=\"https://colab.research.google.com/github/MahiSharma000/Machine_Learning/blob/main/NAIVE%20Bayes.ipynb\" target=\"_parent\"><img src=\"https://colab.research.google.com/assets/colab-badge.svg\" alt=\"Open In Colab\"/></a>"
      ]
    },
    {
      "cell_type": "markdown",
      "source": [
        "01-02-2024"
      ],
      "metadata": {
        "id": "Rl3ml88jEfBR"
      },
      "id": "Rl3ml88jEfBR"
    },
    {
      "cell_type": "markdown",
      "source": [
        "23MCA1058\n",
        "MAHI SHARMA\n",
        "Machine Learning Lab(PMCA507P)"
      ],
      "metadata": {
        "id": "7SLKolexCN0k"
      },
      "id": "7SLKolexCN0k"
    },
    {
      "cell_type": "markdown",
      "source": [
        "**Exercise 4 _ Naive bayes Classifer**"
      ],
      "metadata": {
        "id": "qxfZdznVCiHr"
      },
      "id": "qxfZdznVCiHr"
    },
    {
      "cell_type": "markdown",
      "source": [
        "importing packages"
      ],
      "metadata": {
        "id": "9J2H5oSpCoD8"
      },
      "id": "9J2H5oSpCoD8"
    },
    {
      "cell_type": "code",
      "execution_count": null,
      "id": "b97e2aed-cd5b-43d2-8608-80182995faae",
      "metadata": {
        "id": "b97e2aed-cd5b-43d2-8608-80182995faae"
      },
      "outputs": [],
      "source": [
        "import numpy as np\n",
        "import pandas as pd\n",
        "import matplotlib as plt"
      ]
    },
    {
      "cell_type": "markdown",
      "source": [
        "reading dataset"
      ],
      "metadata": {
        "id": "oqoCUAxICqP-"
      },
      "id": "oqoCUAxICqP-"
    },
    {
      "cell_type": "code",
      "execution_count": null,
      "id": "a6c9fef6-90c9-44a4-acff-f57baf26a6c0",
      "metadata": {
        "id": "a6c9fef6-90c9-44a4-acff-f57baf26a6c0",
        "outputId": "8a020f52-0208-4c54-b5f0-e14c04df343c"
      },
      "outputs": [
        {
          "name": "stdout",
          "output_type": "stream",
          "text": [
            "        age  income student credit_rating buyz_computer\n",
            "0      <=30    high      no          fair            no\n",
            "1      <=30    high      no     excellent            no\n",
            "2   31...40    high      no          fair           yes\n",
            "3       >40  medium      no          fair           yes\n",
            "4       >40     low     yes          fair           yes\n",
            "5       >40     low     yes     excellent            no\n",
            "6   31...40     low     yes     excellent           yes\n",
            "7      <=30  medium      no          fair            no\n",
            "8      <=30     low     yes          fair           yes\n",
            "9       >40  medium     yes          fair           yes\n",
            "10     <=30  medium     yes     excellent           yes\n",
            "11  31...40  medium      no     excellent           yes\n",
            "12  31...40    high     yes          fair           yes\n",
            "13      >40  medium      no     excellent            no\n"
          ]
        }
      ],
      "source": [
        "df=pd.read_excel('Book1.xlsx')\n",
        "print(df)"
      ]
    },
    {
      "cell_type": "markdown",
      "source": [
        "preprocessed the data by encoding categorical variables using LabelEncoder. using  the preprocessed data x to train a machine learning model"
      ],
      "metadata": {
        "id": "ccYTXmMWDKEv"
      },
      "id": "ccYTXmMWDKEv"
    },
    {
      "cell_type": "code",
      "execution_count": null,
      "id": "1950bd42-888f-4a88-88ae-5b6f51ed7da6",
      "metadata": {
        "id": "1950bd42-888f-4a88-88ae-5b6f51ed7da6",
        "outputId": "d72d8e44-372b-4e3d-e666-f27e0f63cb9f"
      },
      "outputs": [
        {
          "data": {
            "text/html": [
              "<div>\n",
              "<style scoped>\n",
              "    .dataframe tbody tr th:only-of-type {\n",
              "        vertical-align: middle;\n",
              "    }\n",
              "\n",
              "    .dataframe tbody tr th {\n",
              "        vertical-align: top;\n",
              "    }\n",
              "\n",
              "    .dataframe thead th {\n",
              "        text-align: right;\n",
              "    }\n",
              "</style>\n",
              "<table border=\"1\" class=\"dataframe\">\n",
              "  <thead>\n",
              "    <tr style=\"text-align: right;\">\n",
              "      <th></th>\n",
              "      <th>age</th>\n",
              "      <th>income</th>\n",
              "      <th>student</th>\n",
              "      <th>credit_rating</th>\n",
              "    </tr>\n",
              "  </thead>\n",
              "  <tbody>\n",
              "    <tr>\n",
              "      <th>0</th>\n",
              "      <td>1</td>\n",
              "      <td>0</td>\n",
              "      <td>0</td>\n",
              "      <td>1</td>\n",
              "    </tr>\n",
              "    <tr>\n",
              "      <th>1</th>\n",
              "      <td>1</td>\n",
              "      <td>0</td>\n",
              "      <td>0</td>\n",
              "      <td>0</td>\n",
              "    </tr>\n",
              "    <tr>\n",
              "      <th>2</th>\n",
              "      <td>0</td>\n",
              "      <td>0</td>\n",
              "      <td>0</td>\n",
              "      <td>1</td>\n",
              "    </tr>\n",
              "    <tr>\n",
              "      <th>3</th>\n",
              "      <td>2</td>\n",
              "      <td>2</td>\n",
              "      <td>0</td>\n",
              "      <td>1</td>\n",
              "    </tr>\n",
              "    <tr>\n",
              "      <th>4</th>\n",
              "      <td>2</td>\n",
              "      <td>1</td>\n",
              "      <td>1</td>\n",
              "      <td>1</td>\n",
              "    </tr>\n",
              "    <tr>\n",
              "      <th>5</th>\n",
              "      <td>2</td>\n",
              "      <td>1</td>\n",
              "      <td>1</td>\n",
              "      <td>0</td>\n",
              "    </tr>\n",
              "    <tr>\n",
              "      <th>6</th>\n",
              "      <td>0</td>\n",
              "      <td>1</td>\n",
              "      <td>1</td>\n",
              "      <td>0</td>\n",
              "    </tr>\n",
              "    <tr>\n",
              "      <th>7</th>\n",
              "      <td>1</td>\n",
              "      <td>2</td>\n",
              "      <td>0</td>\n",
              "      <td>1</td>\n",
              "    </tr>\n",
              "    <tr>\n",
              "      <th>8</th>\n",
              "      <td>1</td>\n",
              "      <td>1</td>\n",
              "      <td>1</td>\n",
              "      <td>1</td>\n",
              "    </tr>\n",
              "    <tr>\n",
              "      <th>9</th>\n",
              "      <td>2</td>\n",
              "      <td>2</td>\n",
              "      <td>1</td>\n",
              "      <td>1</td>\n",
              "    </tr>\n",
              "    <tr>\n",
              "      <th>10</th>\n",
              "      <td>1</td>\n",
              "      <td>2</td>\n",
              "      <td>1</td>\n",
              "      <td>0</td>\n",
              "    </tr>\n",
              "    <tr>\n",
              "      <th>11</th>\n",
              "      <td>0</td>\n",
              "      <td>2</td>\n",
              "      <td>0</td>\n",
              "      <td>0</td>\n",
              "    </tr>\n",
              "    <tr>\n",
              "      <th>12</th>\n",
              "      <td>0</td>\n",
              "      <td>0</td>\n",
              "      <td>1</td>\n",
              "      <td>1</td>\n",
              "    </tr>\n",
              "    <tr>\n",
              "      <th>13</th>\n",
              "      <td>2</td>\n",
              "      <td>2</td>\n",
              "      <td>0</td>\n",
              "      <td>0</td>\n",
              "    </tr>\n",
              "  </tbody>\n",
              "</table>\n",
              "</div>"
            ],
            "text/plain": [
              "    age  income  student  credit_rating\n",
              "0     1       0        0              1\n",
              "1     1       0        0              0\n",
              "2     0       0        0              1\n",
              "3     2       2        0              1\n",
              "4     2       1        1              1\n",
              "5     2       1        1              0\n",
              "6     0       1        1              0\n",
              "7     1       2        0              1\n",
              "8     1       1        1              1\n",
              "9     2       2        1              1\n",
              "10    1       2        1              0\n",
              "11    0       2        0              0\n",
              "12    0       0        1              1\n",
              "13    2       2        0              0"
            ]
          },
          "execution_count": 7,
          "metadata": {},
          "output_type": "execute_result"
        }
      ],
      "source": [
        "y=df['buyz_computer']\n",
        "x=df.drop('buyz_computer',axis=1)\n",
        "from sklearn.preprocessing import LabelEncoder\n",
        "le=LabelEncoder()\n",
        "x.age=le.fit_transform(df['age'])\n",
        "x.income=le.fit_transform(df['income'])\n",
        "x.student=le.fit_transform(df['student'])\n",
        "x.credit_rating=le.fit_transform(df['credit_rating'])\n",
        "x"
      ]
    },
    {
      "cell_type": "markdown",
      "source": [
        "predicting"
      ],
      "metadata": {
        "id": "SW42Zx8YDTR4"
      },
      "id": "SW42Zx8YDTR4"
    },
    {
      "cell_type": "code",
      "execution_count": null,
      "id": "3ceee3a7-109f-4205-b49d-37f80d3bcfef",
      "metadata": {
        "id": "3ceee3a7-109f-4205-b49d-37f80d3bcfef",
        "outputId": "37fc9866-bceb-4398-ae1d-8e2e1a9be736"
      },
      "outputs": [
        {
          "name": "stdout",
          "output_type": "stream",
          "text": [
            "predicted Value ['yes']\n"
          ]
        },
        {
          "name": "stderr",
          "output_type": "stream",
          "text": [
            "C:\\Python39\\lib\\site-packages\\sklearn\\base.py:493: UserWarning: X does not have valid feature names, but GaussianNB was fitted with feature names\n",
            "  warnings.warn(\n"
          ]
        }
      ],
      "source": [
        "from sklearn.naive_bayes import GaussianNB\n",
        "model= GaussianNB()\n",
        "model.fit(x,y)\n",
        "predicted=model.predict([[1,2,0,1]])\n",
        "print(\"predicted Value\",predicted)"
      ]
    },
    {
      "cell_type": "markdown",
      "source": [
        "preprocessed the data by encoding categorical variables using HotEncoder. using the preprocessed data x to train a machine learning mode"
      ],
      "metadata": {
        "id": "GKV3pbAaDaPV"
      },
      "id": "GKV3pbAaDaPV"
    },
    {
      "cell_type": "code",
      "execution_count": null,
      "id": "5c7a7430-d6a0-4ac9-bed2-9927f69e8fc0",
      "metadata": {
        "id": "5c7a7430-d6a0-4ac9-bed2-9927f69e8fc0",
        "outputId": "b0cb68b4-8b3f-4fe1-b870-d34ec1cbc675"
      },
      "outputs": [
        {
          "name": "stdout",
          "output_type": "stream",
          "text": [
            "   buyz_computer  age_31...40  age_<=30  age_>40  income_high  income_low  \\\n",
            "0             no        False      True    False         True       False   \n",
            "1             no        False      True    False         True       False   \n",
            "2            yes         True     False    False         True       False   \n",
            "3            yes        False     False     True        False       False   \n",
            "4            yes        False     False     True        False        True   \n",
            "5             no        False     False     True        False        True   \n",
            "6            yes         True     False    False        False        True   \n",
            "7             no        False      True    False        False       False   \n",
            "8            yes        False      True    False        False        True   \n",
            "9            yes        False     False     True        False       False   \n",
            "10           yes        False      True    False        False       False   \n",
            "11           yes         True     False    False        False       False   \n",
            "12           yes         True     False    False         True       False   \n",
            "13            no        False     False     True        False       False   \n",
            "\n",
            "    income_medium  student_no  student_yes  credit_rating_excellent  \\\n",
            "0           False        True        False                    False   \n",
            "1           False        True        False                     True   \n",
            "2           False        True        False                    False   \n",
            "3            True        True        False                    False   \n",
            "4           False       False         True                    False   \n",
            "5           False       False         True                     True   \n",
            "6           False       False         True                     True   \n",
            "7            True        True        False                    False   \n",
            "8           False       False         True                    False   \n",
            "9            True       False         True                    False   \n",
            "10           True       False         True                     True   \n",
            "11           True        True        False                     True   \n",
            "12          False       False         True                    False   \n",
            "13           True        True        False                     True   \n",
            "\n",
            "    credit_rating_fair  \n",
            "0                 True  \n",
            "1                False  \n",
            "2                 True  \n",
            "3                 True  \n",
            "4                 True  \n",
            "5                False  \n",
            "6                False  \n",
            "7                 True  \n",
            "8                 True  \n",
            "9                 True  \n",
            "10               False  \n",
            "11               False  \n",
            "12                True  \n",
            "13               False  \n"
          ]
        }
      ],
      "source": [
        "x=df.drop('buyz_computer',axis=1)\n",
        "from sklearn.preprocessing import OneHotEncoder\n",
        "le=OneHotEncoder()\n",
        "y = pd.get_dummies(df, columns = ['age','income','student','credit_rating'])\n",
        "print(y)"
      ]
    },
    {
      "cell_type": "code",
      "execution_count": null,
      "id": "86106579-c56d-4e2b-b1e2-485abde19f2d",
      "metadata": {
        "id": "86106579-c56d-4e2b-b1e2-485abde19f2d",
        "outputId": "54dab243-51a1-4211-ed70-914a3af8d85d"
      },
      "outputs": [
        {
          "name": "stdout",
          "output_type": "stream",
          "text": [
            "                                                    0\n",
            "0     (0, 1)\\t1.0\\n  (0, 3)\\t1.0\\n  (0, 6)\\t1.0\\n ...\n",
            "1     (0, 1)\\t1.0\\n  (0, 3)\\t1.0\\n  (0, 6)\\t1.0\\n ...\n",
            "2     (0, 0)\\t1.0\\n  (0, 3)\\t1.0\\n  (0, 6)\\t1.0\\n ...\n",
            "3     (0, 2)\\t1.0\\n  (0, 5)\\t1.0\\n  (0, 6)\\t1.0\\n ...\n",
            "4     (0, 2)\\t1.0\\n  (0, 4)\\t1.0\\n  (0, 7)\\t1.0\\n ...\n",
            "5     (0, 2)\\t1.0\\n  (0, 4)\\t1.0\\n  (0, 7)\\t1.0\\n ...\n",
            "6     (0, 0)\\t1.0\\n  (0, 4)\\t1.0\\n  (0, 7)\\t1.0\\n ...\n",
            "7     (0, 1)\\t1.0\\n  (0, 5)\\t1.0\\n  (0, 6)\\t1.0\\n ...\n",
            "8     (0, 1)\\t1.0\\n  (0, 4)\\t1.0\\n  (0, 7)\\t1.0\\n ...\n",
            "9     (0, 2)\\t1.0\\n  (0, 5)\\t1.0\\n  (0, 7)\\t1.0\\n ...\n",
            "10    (0, 1)\\t1.0\\n  (0, 5)\\t1.0\\n  (0, 7)\\t1.0\\n ...\n",
            "11    (0, 0)\\t1.0\\n  (0, 5)\\t1.0\\n  (0, 6)\\t1.0\\n ...\n",
            "12    (0, 0)\\t1.0\\n  (0, 3)\\t1.0\\n  (0, 7)\\t1.0\\n ...\n",
            "13    (0, 2)\\t1.0\\n  (0, 5)\\t1.0\\n  (0, 6)\\t1.0\\n ...\n",
            "        age  income student credit_rating buyz_computer  \\\n",
            "0      <=30    high      no          fair            no   \n",
            "1      <=30    high      no     excellent            no   \n",
            "2   31...40    high      no          fair           yes   \n",
            "3       >40  medium      no          fair           yes   \n",
            "4       >40     low     yes          fair           yes   \n",
            "5       >40     low     yes     excellent            no   \n",
            "6   31...40     low     yes     excellent           yes   \n",
            "7      <=30  medium      no          fair            no   \n",
            "8      <=30     low     yes          fair           yes   \n",
            "9       >40  medium     yes          fair           yes   \n",
            "10     <=30  medium     yes     excellent           yes   \n",
            "11  31...40  medium      no     excellent           yes   \n",
            "12  31...40    high     yes          fair           yes   \n",
            "13      >40  medium      no     excellent            no   \n",
            "\n",
            "                                                    0  \n",
            "0     (0, 1)\\t1.0\\n  (0, 3)\\t1.0\\n  (0, 6)\\t1.0\\n ...  \n",
            "1     (0, 1)\\t1.0\\n  (0, 3)\\t1.0\\n  (0, 6)\\t1.0\\n ...  \n",
            "2     (0, 0)\\t1.0\\n  (0, 3)\\t1.0\\n  (0, 6)\\t1.0\\n ...  \n",
            "3     (0, 2)\\t1.0\\n  (0, 5)\\t1.0\\n  (0, 6)\\t1.0\\n ...  \n",
            "4     (0, 2)\\t1.0\\n  (0, 4)\\t1.0\\n  (0, 7)\\t1.0\\n ...  \n",
            "5     (0, 2)\\t1.0\\n  (0, 4)\\t1.0\\n  (0, 7)\\t1.0\\n ...  \n",
            "6     (0, 0)\\t1.0\\n  (0, 4)\\t1.0\\n  (0, 7)\\t1.0\\n ...  \n",
            "7     (0, 1)\\t1.0\\n  (0, 5)\\t1.0\\n  (0, 6)\\t1.0\\n ...  \n",
            "8     (0, 1)\\t1.0\\n  (0, 4)\\t1.0\\n  (0, 7)\\t1.0\\n ...  \n",
            "9     (0, 2)\\t1.0\\n  (0, 5)\\t1.0\\n  (0, 7)\\t1.0\\n ...  \n",
            "10    (0, 1)\\t1.0\\n  (0, 5)\\t1.0\\n  (0, 7)\\t1.0\\n ...  \n",
            "11    (0, 0)\\t1.0\\n  (0, 5)\\t1.0\\n  (0, 6)\\t1.0\\n ...  \n",
            "12    (0, 0)\\t1.0\\n  (0, 3)\\t1.0\\n  (0, 7)\\t1.0\\n ...  \n",
            "13    (0, 2)\\t1.0\\n  (0, 5)\\t1.0\\n  (0, 6)\\t1.0\\n ...  \n"
          ]
        }
      ],
      "source": [
        "x=df.drop('buyz_computer',axis=1)\n",
        "from sklearn.preprocessing import OneHotEncoder\n",
        "le=OneHotEncoder()\n",
        "enc_data = pd.DataFrame(le.fit_transform(df[['age','income','student','credit_rating']]))\n",
        "New_df = df.join(enc_data)\n",
        "print(enc_data)\n",
        "print(New_df)"
      ]
    },
    {
      "cell_type": "markdown",
      "source": [
        "Splitting the dataset"
      ],
      "metadata": {
        "id": "_vOm6M7NDlqN"
      },
      "id": "_vOm6M7NDlqN"
    },
    {
      "cell_type": "code",
      "execution_count": null,
      "id": "2bfa2cc0-a7a9-47ad-9aea-4a4aa4d162d0",
      "metadata": {
        "id": "2bfa2cc0-a7a9-47ad-9aea-4a4aa4d162d0"
      },
      "outputs": [],
      "source": [
        "X=df.drop(['buyz_computer'],axis=1)\n",
        "y=df['buyz_computer']\n",
        "from sklearn.model_selection import train_test_split\n",
        "X_train, X_test, y_train, y_test = train_test_split(X, y, test_size=0.25,random_state = 0)\n",
        "from sklearn.preprocessing import OneHotEncoder\n",
        "cols = ['age','income','student','credit_rating']\n",
        "encoder = OneHotEncoder()\n",
        "X_train = encoder.fit_transform(X_train[cols])\n",
        "X_test = encoder.transform(X_test[cols])"
      ]
    },
    {
      "cell_type": "markdown",
      "source": [],
      "metadata": {
        "id": "ZeD1LotKEd8T"
      },
      "id": "ZeD1LotKEd8T"
    },
    {
      "cell_type": "code",
      "execution_count": null,
      "id": "92362572-46a6-42b0-a145-00bb76eb1294",
      "metadata": {
        "scrolled": true,
        "id": "92362572-46a6-42b0-a145-00bb76eb1294",
        "outputId": "94e8ae95-32ec-49fd-b5c9-5aaed6111a47"
      },
      "outputs": [
        {
          "name": "stdout",
          "output_type": "stream",
          "text": [
            "Accuracy: 50.00%\n",
            "Confusion Matrix:\n",
            "[[0 0]\n",
            " [2 2]]\n"
          ]
        }
      ],
      "source": [
        "from sklearn.naive_bayes import GaussianNB\n",
        "from sklearn.metrics import accuracy_score, confusion_matrix\n",
        "import pandas as pd\n",
        "\n",
        "# Assuming you have X_train, X_test, y_train, and y_test defined somewhere\n",
        "\n",
        "# Convert sparse data to dense array\n",
        "X_train_dense = X_train.toarray()\n",
        "\n",
        "# Create Gaussian Naive Bayes model\n",
        "model_gnb = GaussianNB()\n",
        "\n",
        "# Fit the model with dense data\n",
        "model_gnb.fit(X_train_dense, y_train)\n",
        "\n",
        "# Make predictions on the test set\n",
        "X_test_dense = X_test.toarray()\n",
        "y_pred = model_gnb.predict(X_test_dense)\n",
        "\n",
        "# Evaluate the model\n",
        "accuracy = accuracy_score(y_test, y_pred)\n",
        "print(f'Accuracy: {100 * accuracy:.2f}%')\n",
        "\n",
        "conf_matrix = confusion_matrix(y_test, y_pred)\n",
        "print('Confusion Matrix:')\n",
        "print(conf_matrix)\n"
      ]
    },
    {
      "cell_type": "markdown",
      "source": [
        "he accuracy of the Gaussian Naive Bayes model on the test set is 50.00%. This means that the model correctly predicted the target variable for half of the instances in the test set. The confusion matrix can provide additional insights into the model's performance:\n",
        "\n",
        "The confusion matrix can be interpreted as follows:\n",
        "\n",
        "True Negative (TN): 0\n",
        "False Positive (FP): 0\n",
        "False Negative (FN): 2\n",
        "True Positive (TP): 2\n",
        "In other words, the model correctly predicted 2 instances of the positive class (True Positives) but failed to predict 2 instances of the positive class (False Negatives). It correctly predicted all instances of the negative class (True Negatives) and did not make any false positive predictions.\n",
        "\n",
        "The low accuracy and the presence of false negatives suggest that the model may not be performing well on the given dataset. Further analysis and possibly trying different models or adjusting parameters might be necessary to improve predictive performance."
      ],
      "metadata": {
        "id": "D93YzOc3ESUA"
      },
      "id": "D93YzOc3ESUA"
    },
    {
      "cell_type": "markdown",
      "source": [],
      "metadata": {
        "id": "0lTHRL5KET-7"
      },
      "id": "0lTHRL5KET-7"
    }
  ],
  "metadata": {
    "kernelspec": {
      "display_name": "Python 3 (ipykernel)",
      "language": "python",
      "name": "python3"
    },
    "language_info": {
      "codemirror_mode": {
        "name": "ipython",
        "version": 3
      },
      "file_extension": ".py",
      "mimetype": "text/x-python",
      "name": "python",
      "nbconvert_exporter": "python",
      "pygments_lexer": "ipython3",
      "version": "3.9.7"
    },
    "colab": {
      "provenance": [],
      "include_colab_link": true
    }
  },
  "nbformat": 4,
  "nbformat_minor": 5
}